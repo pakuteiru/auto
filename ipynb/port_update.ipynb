{
 "cells": [
  {
   "cell_type": "code",
   "execution_count": 1,
   "metadata": {},
   "outputs": [],
   "source": [
    "#ライブラリ\n",
    "import pandas as pd\n",
    "import datetime\n",
    "#表示行列を設定\n",
    "project_id = 'luup-prod' #プロジェクトIDを設定\n",
    "today = datetime.date.today() #今日の日付\n",
    "yesterday = today-datetime.timedelta(days=1) #昨日の日付"
   ]
  },
  {
   "cell_type": "code",
   "execution_count": 2,
   "metadata": {},
   "outputs": [],
   "source": [
    "##ポートデータの取得\n",
    "def get_df_port():\n",
    "  port_query = '''\n",
    "    declare from_day date;\n",
    "    declare to_day date;\n",
    "    set from_day =date_add(date(current_datetime()),interval -1 day);\n",
    "    set to_day = date(current_datetime());\n",
    "  \n",
    "    select\n",
    "    a.port_id,a.port_name,a.lat,a.lng,date(first_appearance_datetime) as installation_day,city_id,\n",
    "    luup_datawarehouse.convert_address_to_ward(address) as ward,station,distance,avg(maximum_device_count) as capacity,avg(owner_amount) as payment_amount\n",
    "    from `luup_datawarehouse.ports_latest` as a\n",
    "    left join `luup_datawarehouse.salesforce_master_ports_daily` as b\n",
    "    on a.port_id = b.port_id\n",
    "    where city_id = '{}' and is_available = True and date >= from_day and date < to_day\n",
    "    group by 1,2,3,4,5,6,7,8,9\n",
    "    order by 5\n",
    "    '''.format(city_name)\n",
    "\n",
    "  df_port_all = pd.read_gbq(port_query,project_id)\n",
    "  return df_port_all\n",
    "\n",
    "#メッシュデータの取得\n",
    "def get_df_mesh_kansai():#関西\n",
    "  mesh_query = '''\n",
    "    select KEY_CODE,lat_max,lat_min,lng_max,lng_min,geometry\n",
    "    from `luup-prod.field.mesh05235_250m_mesh_geo` \n",
    "    union all\n",
    "    select KEY_CODE,lat_max,lat_min,lng_max,lng_min,geometry\n",
    "    from `luup-prod.field.mesh05135_250m_mesh_geo` \n",
    "    '''\n",
    "  df_mesh_all = pd.read_gbq(mesh_query,project_id)\n",
    "  return df_mesh_all\n",
    "\n",
    "def get_df_mesh_kanto():#関東\n",
    "  mesh_query = '''\n",
    "    select KEY_CODE,lat_max,lat_min,lng_max,lng_min,geometry\n",
    "    from `luup-prod.field.mesh05339_250m_mesh_geo`\n",
    "    '''\n",
    "  df_mesh_all = pd.read_gbq(mesh_query,project_id)\n",
    "  return df_mesh_all\n",
    "\n",
    "def get_df_mesh(city_id):\n",
    "  if (city_id == \"osaka\")|(city_id == \"kyoto\"):\n",
    "    return get_df_mesh_kansai()\n",
    "  elif (city_id == \"shibuya\")|(city_id == \"yokohama\"):\n",
    "    return get_df_mesh_kanto()"
   ]
  },
  {
   "cell_type": "code",
   "execution_count": 3,
   "metadata": {
    "scrolled": false
   },
   "outputs": [
    {
     "data": {
      "text/plain": [
       "'\"#初回だけそのまま読み込む\\n\\n#ポート\\ndf_port = get_df_port()\\n#メッシュ\\ndf_mesh = get_df_mesh(city_name)\\n#ポート情報に応じてメッシュを適正なサイズに切り取る\\ndf_mesh = df_mesh[(df_mesh[\\'lat_max\\'] < max(df_port[\\'lat\\']+0.02))&(df_mesh[\\'lat_min\\'] > min(df_port[\\'lat\\']-0.02))&(df_mesh[\\'lng_max\\'] < max(df_port[\\'lng\\']+0.01))&(df_mesh[\\'lng_min\\'] > min(df_port[\\'lng\\']-0.01))]\\ndf_mesh = df_mesh.reset_index()\\n#新しく設置されたポートをメッシュ毎に判別する\\ndf_port[\\'KEY_CODE\\'] = 0\\nfor i in range(len(df_port)):\\n    for j in range(len(df_mesh)):\\n        if((df_port[\\'lat\\'][i] <= df_mesh[\\'lat_max\\'][j]) & (df_port[\\'lat\\'][i] >= df_mesh[\\'lat_min\\'][j]) & (df_port[\\'lng\\'][i] <= df_mesh[\\'lng_max\\'][j]) & (df_port[\\'lng\\'][i] >= df_mesh[\\'lng_min\\'][j])):\\n            df_port.loc[i,[\\'KEY_CODE\\']] = df_mesh[\\'KEY_CODE\\'][j] \\ndf_mesh.to_csv(f\\'/Users/pakuteiru/Desktop/定期実行/mesh/mesh_{city_name}.csv\\',index=False)\\ndf_port.to_csv(f\\'/Users/pakuteiru/Desktop/定期実行/port/port_{city_name}.csv\\',index=False)'"
      ]
     },
     "execution_count": 3,
     "metadata": {},
     "output_type": "execute_result"
    }
   ],
   "source": [
    "\"\"\"\"#初回だけそのまま読み込む\n",
    "\n",
    "#ポート\n",
    "df_port = get_df_port()\n",
    "#メッシュ\n",
    "df_mesh = get_df_mesh(city_name)\n",
    "#ポート情報に応じてメッシュを適正なサイズに切り取る\n",
    "df_mesh = df_mesh[(df_mesh['lat_max'] < max(df_port['lat']+0.02))&(df_mesh['lat_min'] > min(df_port['lat']-0.02))&(df_mesh['lng_max'] < max(df_port['lng']+0.01))&(df_mesh['lng_min'] > min(df_port['lng']-0.01))]\n",
    "df_mesh = df_mesh.reset_index()\n",
    "#新しく設置されたポートをメッシュ毎に判別する\n",
    "df_port['KEY_CODE'] = 0\n",
    "for i in range(len(df_port)):\n",
    "    for j in range(len(df_mesh)):\n",
    "        if((df_port['lat'][i] <= df_mesh['lat_max'][j]) & (df_port['lat'][i] >= df_mesh['lat_min'][j]) & (df_port['lng'][i] <= df_mesh['lng_max'][j]) & (df_port['lng'][i] >= df_mesh['lng_min'][j])):\n",
    "            df_port.loc[i,['KEY_CODE']] = df_mesh['KEY_CODE'][j] \n",
    "df_mesh.to_csv(f'/Users/pakuteiru/Desktop/定期実行/mesh/mesh_{city_name}.csv',index=False)\n",
    "df_port.to_csv(f'/Users/pakuteiru/Desktop/定期実行/port/port_{city_name}.csv',index=False)\"\"\""
   ]
  },
  {
   "cell_type": "code",
   "execution_count": 4,
   "metadata": {},
   "outputs": [],
   "source": [
    "city_list = ['osaka','kyoto','shibuya','yokohama']"
   ]
  },
  {
   "cell_type": "code",
   "execution_count": 7,
   "metadata": {},
   "outputs": [
    {
     "name": "stdout",
     "output_type": "stream",
     "text": [
      "============== osaka\n",
      "portが同じ数 :  元のデータ 546 新しいデータ 546\n",
      "メッシュ判定後 : 546 546\n",
      "============== kyoto\n",
      "portが違う数 :  元のデータ 282 新しいデータ 283\n",
      "正しくメッシュ判定できている\n",
      "メッシュ判定後 : 283 283\n",
      "============== shibuya\n",
      "portが違う数 :  元のデータ 1810 新しいデータ 1811\n",
      "正しくメッシュ判定できている\n",
      "メッシュ判定後 : 1811 1811\n",
      "============== yokohama\n",
      "portが違う数 :  元のデータ 64 新しいデータ 65\n",
      "正しくメッシュ判定できている\n",
      "メッシュ判定後 : 65 65\n"
     ]
    }
   ],
   "source": [
    "for city_name in city_list:\n",
    "    print(\"==============\",city_name)\n",
    "    \n",
    "    #元のポートとメッシュを取得する\n",
    "    origin_port = pd.read_csv(f'/Users/pakuteiru/Desktop/定期実行/port/port_{city_name}.csv')\n",
    "    origin_mesh = pd.read_csv(f'/Users/pakuteiru/Desktop/定期実行/mesh/mesh_{city_name}.csv')\n",
    "    \n",
    "    #　df_は新しいポートとメッシュを更新する\n",
    "    df_port = get_df_port()\n",
    "    df_mesh = origin_mesh\n",
    "    \n",
    "    # idをint型に変更する\n",
    "    origin_port['port_id'] = origin_port['port_id'].astype('int')\n",
    "    df_port['port_id'] = df_port['port_id'].astype('int')\n",
    "\n",
    "    #ポート数が更新前と同じ→そのまま\n",
    "    if(len(origin_port)==len(df_port)):\n",
    "        print('portが同じ数 : ','元のデータ',len(origin_port),'新しいデータ',len(df_port))     \n",
    "    #ポート数が更新前と違う    \n",
    "    else:\n",
    "        print('portが違う数 : ','元のデータ',len(origin_port),'新しいデータ',len(df_port))\n",
    "        \n",
    "        #新しく設置されたポートをメッシュ毎に判別する\n",
    "        df_port['KEY_CODE'] = 0\n",
    "        \n",
    "        #新しく設置されたポートの数だけfor文を行う\n",
    "        for i in range(len(df_port)-1,len(origin_port)-1,-1):\n",
    "            for j in range(len(df_mesh)):\n",
    "                if((df_port['lat'][i] <= df_mesh['lat_max'][j]) & (df_port['lat'][i] >= df_mesh['lat_min'][j]) & (df_port['lng'][i] <= df_mesh['lng_max'][j]) & (df_port['lng'][i] >= df_mesh['lng_min'][j])):\n",
    "                    #メッシュコードを付与する\n",
    "                    df_port.loc[i,['KEY_CODE']] = df_mesh['KEY_CODE'][j]\n",
    "        \n",
    "        #メッシュコードが正しく取得されているかどうかの確認\n",
    "        if(df_port['KEY_CODE'].isnull().sum()==0):\n",
    "            print(\"正しくメッシュ判定できている\")\n",
    "        else:\n",
    "            print(\"正しくメッシュ判定できていない\")\n",
    "            #メッシュを更新する\n",
    "            df_mesh = get_df_mesh(city_name)\n",
    "            #ポート情報に応じてメッシュを適正なサイズに切り取る\n",
    "            #メッシュサイズを一回り大きくする\n",
    "            df_mesh = df_mesh[(df_mesh['lat_max'] < max(df_port['lat']+0.02))&(df_mesh['lat_min'] > min(df_port['lat']-0.02))&(df_mesh['lng_max'] < max(df_port['lng']+0.01))&(df_mesh['lng_min'] > min(df_port['lng']-0.01))]\n",
    "            df_mesh = df_mesh.reset_index()\n",
    "            #メッシュを新しく更新する\n",
    "            df_mesh.to_csv(f'/Users/pakuteiru/Desktop/定期実行/mesh/mesh_{city_name}.csv',index=False)\n",
    "            \n",
    "            #もう一度メッシュコードを取得する\n",
    "            for i in range(len(df_port)-1,len(origin_port)-1,-1):\n",
    "                for j in range(len(df_mesh)):\n",
    "                    if((df_port['lat'][i] <= df_mesh['lat_max'][j]) & (df_port['lat'][i] >= df_mesh['lat_min'][j]) & (df_port['lng'][i] <= df_mesh['lng_max'][j]) & (df_port['lng'][i] >= df_mesh['lng_min'][j])):\n",
    "                        df_port.loc[i,['KEY_CODE']] = df_mesh['KEY_CODE'][j]\n",
    "                        #print(i,j)\n",
    "\n",
    "\n",
    "    #追加するポート            \n",
    "    add_port = df_port.tail(len(df_port)-len(origin_port))\n",
    "    origin_port = pd.concat([origin_port,add_port])\n",
    "    print('メッシュ判定後 :',len(origin_port),len(df_port))\n",
    "    #ポートを新しく更新する\n",
    "    origin_port = origin_port[origin_port['KEY_CODE']!=0]\n",
    "    origin_port = origin_port.drop_duplicates(keep='last').sort_values('port_id')\n",
    "    origin_port.to_csv(f'/Users/pakuteiru/Desktop/定期実行/port/port_{city_name}.csv',index=False)"
   ]
  }
 ],
 "metadata": {
  "kernelspec": {
   "display_name": "Python 3",
   "language": "python",
   "name": "python3"
  },
  "language_info": {
   "codemirror_mode": {
    "name": "ipython",
    "version": 3
   },
   "file_extension": ".py",
   "mimetype": "text/x-python",
   "name": "python",
   "nbconvert_exporter": "python",
   "pygments_lexer": "ipython3",
   "version": "3.8.5"
  }
 },
 "nbformat": 4,
 "nbformat_minor": 4
}
