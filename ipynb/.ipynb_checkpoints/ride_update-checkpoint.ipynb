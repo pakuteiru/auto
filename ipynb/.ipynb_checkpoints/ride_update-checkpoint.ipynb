{
 "cells": [
  {
   "cell_type": "code",
   "execution_count": 1,
   "metadata": {
    "executionInfo": {
     "elapsed": 713,
     "status": "ok",
     "timestamp": 1671612016121,
     "user": {
      "displayName": "朴太一",
      "userId": "06938808464027160104"
     },
     "user_tz": -540
    },
    "id": "RTwINUmg1v-_"
   },
   "outputs": [],
   "source": [
    "import pandas as pd"
   ]
  },
  {
   "cell_type": "code",
   "execution_count": 5,
   "metadata": {
    "executionInfo": {
     "elapsed": 271,
     "status": "ok",
     "timestamp": 1671612003553,
     "user": {
      "displayName": "朴太一",
      "userId": "06938808464027160104"
     },
     "user_tz": -540
    },
    "id": "GcI6K7zZ1b-K"
   },
   "outputs": [],
   "source": [
    "project_id = 'luup-prod' \n",
    "city_list = ['osaka','kyoto','shibuya','yokohama']"
   ]
  },
  {
   "cell_type": "code",
   "execution_count": 8,
   "metadata": {
    "executionInfo": {
     "elapsed": 349,
     "status": "ok",
     "timestamp": 1671612447635,
     "user": {
      "displayName": "朴太一",
      "userId": "06938808464027160104"
     },
     "user_tz": -540
    },
    "id": "SOqLPzUc1Sf0"
   },
   "outputs": [],
   "source": [
    "#ライドデータの取得\n",
    "def get_df_ride():\n",
    "  ride_query = '''\n",
    "    #時間帯ごとの移動の流れを可視化したい\n",
    "    #変数の型を宣言\n",
    "    declare from_day date;\n",
    "    declare to_day date;\n",
    "\n",
    "    set from_day =date_add(date(current_datetime()),interval -30 day);\n",
    "    set to_day = date(current_datetime());\n",
    "    #1日ごとの日付を取得\n",
    "    WITH days AS (\n",
    "      SELECT  CAST(DATE_TRUNC(start_ride_datetime,DAY) AS DATE) AS DAY\n",
    "      FROM  `luup-prod.luup_datawarehouse.rides_completed` \n",
    "      WHERE 1=1 \n",
    "      AND start_ride_datetime >= from_day AND start_ride_datetime < to_day \n",
    "      AND end_ride_datetime >= from_day AND end_ride_datetime < to_day \n",
    "      AND payment_completed = TRUE\n",
    "      GROUP BY  DAY\n",
    "      ORDER BY  DAY\n",
    "    ),rides AS(\n",
    "      SELECT  DATE_TRUNC(start_ride_datetime,HOUR) AS TIME,start_port_id,end_port_id,user_id,gross_sales_amount_tax_excluded,payment_amount_tax_excluded,ride_duration_seconds\n",
    "      FROM  `luup-prod.luup_datawarehouse.rides_completed` \n",
    "      WHERE 1=1 \n",
    "      AND start_ride_datetime >= from_day AND start_ride_datetime < to_day \n",
    "      AND end_ride_datetime >= from_day AND end_ride_datetime < to_day \n",
    "      AND city_id = '{}' \n",
    "      ORDER BY TIME\n",
    "    ),rides2 AS(\n",
    "      SELECT*,CAST(SUBSTRING(CAST(TIME AS STRING),1,10) AS DATE) AS DAY\n",
    "      FROM  rides\n",
    "    ),rides3 AS(\n",
    "      SELECT\n",
    "        TIME,\n",
    "        start_port_id,port_name AS start_port_name,lat AS start_lat,lng AS start_lng,luup_datawarehouse.convert_address_to_ward(address) AS start_ward,station AS start_station,distance AS start_distance,maximum_device_count AS start_capacity,\n",
    "        end_port_id,user_id,gross_sales_amount_tax_excluded,payment_amount_tax_excluded,ride_duration_seconds\n",
    "      FROM rides2 AS A LEFT JOIN `luup-prod.luup_datawarehouse.ports_latest` AS B ON A.start_port_id = B.port_id\n",
    "    ),rides4 AS(\n",
    "      SELECT\n",
    "        TIME,\n",
    "        start_port_id,end_port_id,\n",
    "        user_id,gross_sales_amount_tax_excluded,payment_amount_tax_excluded,ride_duration_seconds\n",
    "      FROM rides3 AS A LEFT JOIN `luup-prod.luup_datawarehouse.ports_latest` AS B ON A.end_port_id = B.port_id\n",
    "    )\n",
    "    select * from rides4\n",
    "    '''.format(city_name)\n",
    "  df_ride_all = pd.read_gbq(ride_query,project_id)\n",
    "  return df_ride_all"
   ]
  },
  {
   "cell_type": "code",
   "execution_count": 9,
   "metadata": {
    "executionInfo": {
     "elapsed": 8663,
     "status": "ok",
     "timestamp": 1671612498081,
     "user": {
      "displayName": "朴太一",
      "userId": "06938808464027160104"
     },
     "user_tz": -540
    },
    "id": "mjGS7EgR1Tvj"
   },
   "outputs": [],
   "source": [
    "#30日間の移動データを保存する\n",
    "for city_name in city_list:\n",
    "    df_ride = get_df_ride()\n",
    "    df_ride.to_csv(f'/Users/pakuteiru/Desktop/定期実行/ride/ride_{city_name}.csv',index=False)"
   ]
  }
 ],
 "metadata": {
  "colab": {
   "authorship_tag": "ABX9TyPfz+Vp9n9wqPGpuxCP52+t",
   "mount_file_id": "1aH4gLODZY5ZxVRPULaC0Hsl0XIzx9-kX",
   "provenance": []
  },
  "kernelspec": {
   "display_name": "Python 3",
   "language": "python",
   "name": "python3"
  },
  "language_info": {
   "codemirror_mode": {
    "name": "ipython",
    "version": 3
   },
   "file_extension": ".py",
   "mimetype": "text/x-python",
   "name": "python",
   "nbconvert_exporter": "python",
   "pygments_lexer": "ipython3",
   "version": "3.8.5"
  }
 },
 "nbformat": 4,
 "nbformat_minor": 1
}
